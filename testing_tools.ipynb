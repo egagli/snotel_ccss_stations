{
 "cells": [
  {
   "cell_type": "markdown",
   "id": "c70ce107-13ed-4bf6-a229-96718eafabf0",
   "metadata": {
    "tags": []
   },
   "source": [
    "# Try out snotel_tools"
   ]
  },
  {
   "cell_type": "code",
   "execution_count": null,
   "id": "a991ab8c-7f06-46dc-b6ec-a580d99e87c7",
   "metadata": {
    "tags": []
   },
   "outputs": [],
   "source": [
    "!mamba env create -q -f environment.yml --force\n",
    "!mamba activate snotel\n",
    "# then switch kernels on top right"
   ]
  },
  {
   "cell_type": "code",
   "execution_count": null,
   "id": "3e189957-8300-4cd4-88cf-2e75464e4380",
   "metadata": {
    "tags": []
   },
   "outputs": [],
   "source": [
    "import sys\n",
    "sys.path.append('snotel_tools')\n",
    "import snotel_tools\n",
    "import numpy as np\n",
    "import shapely\n",
    "import geopandas as gpd\n",
    "import pandas as pd\n",
    "import ulmo\n",
    "import fsspec\n",
    "import datetime\n",
    "import mgrs\n",
    "import os\n",
    "import tqdm\n",
    "\n",
    "wsdl_url = 'https://hydroportal.cuahsi.org/Snotel/cuahsi_1_1.asmx?WSDL'"
   ]
  },
  {
   "cell_type": "code",
   "execution_count": null,
   "id": "dd87b3c6-b959-4ba1-a94b-9ba2de700338",
   "metadata": {
    "tags": []
   },
   "outputs": [],
   "source": [
    "sites_gdf = snotel_tools.all_snotel_sites(from_ulmo=False)"
   ]
  },
  {
   "cell_type": "code",
   "execution_count": null,
   "id": "7160ac60-4157-4eef-991b-061fb6ae4834",
   "metadata": {
    "tags": []
   },
   "outputs": [],
   "source": [
    "# try buffering\n",
    "#sites_gdf['geometry'] = sites_gdf.to_crs(32611).geometry.buffer(500).to_crs(4326)"
   ]
  },
  {
   "cell_type": "code",
   "execution_count": null,
   "id": "b7d21a53-c612-49f4-bfc2-0a3eee9e3c2e",
   "metadata": {
    "tags": []
   },
   "outputs": [],
   "source": [
    "sites_gdf.astype(dict(beginDate=str, endDate=str)).explore(column='mountainRange')"
   ]
  },
  {
   "cell_type": "code",
   "execution_count": null,
   "id": "4f387656-acbc-4672-89cc-8222e42885bf",
   "metadata": {},
   "outputs": [],
   "source": [
    "len(np.unique(sites_gdf[sites_gdf.isActive].mgrs)) # make test bed netcdfs over just these sites"
   ]
  },
  {
   "cell_type": "code",
   "execution_count": null,
   "id": "72875f1e-229e-459f-817a-470a53254268",
   "metadata": {
    "tags": []
   },
   "outputs": [],
   "source": [
    "aoi = shapely.geometry.Point(-120, 48)\n",
    "aoi = gpd.read_file('~/sar_snow_melt_timing/input/shapefiles/olympics.geojson')"
   ]
  },
  {
   "cell_type": "code",
   "execution_count": null,
   "id": "7c5b0994-0491-4fa0-8341-506dbc72d520",
   "metadata": {
    "tags": []
   },
   "outputs": [],
   "source": [
    "sites_gdf_sorted = snotel_tools.sort_closest_snotel_sites(aoi,print_closest=True)"
   ]
  },
  {
   "cell_type": "code",
   "execution_count": null,
   "id": "02d1a688-bafd-4b08-9657-3767c11698a8",
   "metadata": {
    "tags": []
   },
   "outputs": [],
   "source": [
    "sites_gdf_sorted.astype(dict(beginDate=str, endDate=str)).explore(column='distance_km')"
   ]
  },
  {
   "cell_type": "code",
   "execution_count": null,
   "id": "abe0037b-1ed5-44aa-8918-80fe2850003e",
   "metadata": {},
   "outputs": [],
   "source": []
  },
  {
   "cell_type": "code",
   "execution_count": null,
   "id": "6351c0dd-e3b4-4cc7-b493-daab4b576d82",
   "metadata": {
    "tags": []
   },
   "outputs": [],
   "source": []
  },
  {
   "cell_type": "code",
   "execution_count": null,
   "id": "17ba4b85-2ea8-4e64-8d61-529afc32db3f",
   "metadata": {
    "tags": []
   },
   "outputs": [],
   "source": [
    "sites_gdf"
   ]
  },
  {
   "cell_type": "code",
   "execution_count": null,
   "id": "894fb963-3afd-4f94-96d1-211e2de77b1f",
   "metadata": {},
   "outputs": [],
   "source": [
    "def get_variables(sitecode,print_vars=False):\n",
    "    \n",
    "    variables = ulmo.cuahsi.wof.get_site_info(wsdl_url, 'SNOTEL:'+sitecode)['series']\n",
    "    \n",
    "    if print_vars == True:\n",
    "        for key,val in variables:\n",
    "            print(key,val['variable']['name'])\n",
    "    \n",
    "    return variables"
   ]
  },
  {
   "cell_type": "code",
   "execution_count": null,
   "id": "ac485897-59f9-4c14-9ef4-94ae8d1baf0b",
   "metadata": {},
   "outputs": [],
   "source": [
    "v = get_variables(sites_gdf.index.values[0],print_vars=False)"
   ]
  },
  {
   "cell_type": "code",
   "execution_count": null,
   "id": "95664cff-0d2b-41ac-933d-b62be9c5c8ae",
   "metadata": {
    "tags": []
   },
   "outputs": [],
   "source": [
    "v.keys()\n",
    "daily_vars = [x for x in v.keys() if x.endswith('_D')]\n",
    "#for key,val in v.keys():\n",
    "#    print(key, val['variable']['name'])"
   ]
  },
  {
   "cell_type": "code",
   "execution_count": null,
   "id": "543be96b-40dd-4a86-b041-8dd6c8cb0c36",
   "metadata": {
    "tags": []
   },
   "outputs": [],
   "source": [
    "daily_vars"
   ]
  },
  {
   "cell_type": "code",
   "execution_count": null,
   "id": "5e20a03c-9384-40ed-b022-857280ec9bee",
   "metadata": {
    "tags": []
   },
   "outputs": [],
   "source": [
    "#v.keys()"
   ]
  },
  {
   "cell_type": "code",
   "execution_count": null,
   "id": "d17efb77-b064-4dc5-8286-c749df49b3a5",
   "metadata": {
    "tags": []
   },
   "outputs": [],
   "source": [
    "#v"
   ]
  },
  {
   "cell_type": "code",
   "execution_count": null,
   "id": "74b21b22-7a2a-40a0-8393-5380638df1b1",
   "metadata": {
    "tags": []
   },
   "outputs": [],
   "source": []
  },
  {
   "cell_type": "code",
   "execution_count": null,
   "id": "d74b5007-37ea-41b1-aeff-ae2a53afe79a",
   "metadata": {
    "tags": []
   },
   "outputs": [],
   "source": [
    "snotel_tools.download_snotel_data_csv(sites_gdf)"
   ]
  },
  {
   "cell_type": "code",
   "execution_count": null,
   "id": "337f3d5e-889c-47bc-a80a-f81868057f4b",
   "metadata": {},
   "outputs": [],
   "source": []
  },
  {
   "cell_type": "code",
   "execution_count": null,
   "id": "d7363003-aa24-4405-a2f7-c52ba8ca570c",
   "metadata": {},
   "outputs": [],
   "source": []
  },
  {
   "cell_type": "code",
   "execution_count": null,
   "id": "bb527b52-be83-4c93-94ea-fd764c43fc63",
   "metadata": {},
   "outputs": [],
   "source": []
  },
  {
   "cell_type": "code",
   "execution_count": null,
   "id": "33aa586d-6087-4098-b3d5-e63a393b4776",
   "metadata": {},
   "outputs": [],
   "source": []
  },
  {
   "cell_type": "code",
   "execution_count": null,
   "id": "e5622272-3a3f-45c5-beca-108939a1f2ae",
   "metadata": {
    "tags": []
   },
   "outputs": [],
   "source": []
  },
  {
   "cell_type": "code",
   "execution_count": null,
   "id": "c798d094-1a45-4304-881b-ce0b191cd34a",
   "metadata": {},
   "outputs": [],
   "source": []
  }
 ],
 "metadata": {
  "kernelspec": {
   "display_name": "Python [conda env:snotel]",
   "language": "python",
   "name": "conda-env-snotel-py"
  },
  "language_info": {
   "codemirror_mode": {
    "name": "ipython",
    "version": 3
   },
   "file_extension": ".py",
   "mimetype": "text/x-python",
   "name": "python",
   "nbconvert_exporter": "python",
   "pygments_lexer": "ipython3",
   "version": "3.9.18"
  }
 },
 "nbformat": 4,
 "nbformat_minor": 5
}
